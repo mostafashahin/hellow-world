{
  "nbformat": 4,
  "nbformat_minor": 0,
  "metadata": {
    "colab": {
      "name": "Untitled0.ipynb",
      "version": "0.3.2",
      "provenance": [],
      "include_colab_link": true
    },
    "kernelspec": {
      "name": "python3",
      "display_name": "Python 3"
    }
  },
  "cells": [
    {
      "cell_type": "markdown",
      "metadata": {
        "id": "view-in-github",
        "colab_type": "text"
      },
      "source": [
        "<a href=\"https://colab.research.google.com/github/mostafashahin/hellow-world/blob/master/Untitled0.ipynb\" target=\"_parent\"><img src=\"https://colab.research.google.com/assets/colab-badge.svg\" alt=\"Open In Colab\"/></a>"
      ]
    },
    {
      "metadata": {
        "id": "YSimCsFQTOqf",
        "colab_type": "code",
        "colab": {}
      },
      "cell_type": "code",
      "source": [
        "from google.colab import drive"
      ],
      "execution_count": 0,
      "outputs": []
    },
    {
      "metadata": {
        "id": "_HtqzCsEUoE1",
        "colab_type": "code",
        "outputId": "93aef7d4-c966-4591-f329-89e5799af408",
        "colab": {
          "base_uri": "https://localhost:8080/",
          "height": 128
        }
      },
      "cell_type": "code",
      "source": [
        "drive.mount('/content/gdrive')"
      ],
      "execution_count": 0,
      "outputs": [
        {
          "output_type": "stream",
          "text": [
            "Go to this URL in a browser: https://accounts.google.com/o/oauth2/auth?client_id=947318989803-6bn6qk8qdgf4n4g3pfee6491hc0brc4i.apps.googleusercontent.com&redirect_uri=urn%3Aietf%3Awg%3Aoauth%3A2.0%3Aoob&scope=email%20https%3A%2F%2Fwww.googleapis.com%2Fauth%2Fdocs.test%20https%3A%2F%2Fwww.googleapis.com%2Fauth%2Fdrive%20https%3A%2F%2Fwww.googleapis.com%2Fauth%2Fdrive.photos.readonly%20https%3A%2F%2Fwww.googleapis.com%2Fauth%2Fpeopleapi.readonly&response_type=code\n",
            "\n",
            "Enter your authorization code:\n",
            "··········\n",
            "Mounted at /content/gdrive\n"
          ],
          "name": "stdout"
        }
      ]
    },
    {
      "metadata": {
        "id": "410w09ZLVCXx",
        "colab_type": "code",
        "colab": {
          "base_uri": "https://localhost:8080/",
          "height": 35
        },
        "outputId": "255b71a0-6ebc-49c1-f455-dae5a3c187a3"
      },
      "cell_type": "code",
      "source": [
        "ls"
      ],
      "execution_count": 3,
      "outputs": [
        {
          "output_type": "stream",
          "text": [
            "\u001b[0m\u001b[01;34mgdrive\u001b[0m/  \u001b[01;34msample_data\u001b[0m/\n"
          ],
          "name": "stdout"
        }
      ]
    },
    {
      "metadata": {
        "id": "MGwIeGpVVYcs",
        "colab_type": "code",
        "colab": {
          "base_uri": "https://localhost:8080/",
          "height": 35
        },
        "outputId": "71002c9c-893a-454c-b428-75e4210c4996"
      },
      "cell_type": "code",
      "source": [
        "cd gdrive/"
      ],
      "execution_count": 4,
      "outputs": [
        {
          "output_type": "stream",
          "text": [
            "/content/gdrive\n"
          ],
          "name": "stdout"
        }
      ]
    },
    {
      "metadata": {
        "id": "TwOexHbCVbP_",
        "colab_type": "code",
        "colab": {
          "base_uri": "https://localhost:8080/",
          "height": 35
        },
        "outputId": "118b503e-5e3a-492d-904e-45159abe82e4"
      },
      "cell_type": "code",
      "source": [
        "ls"
      ],
      "execution_count": 5,
      "outputs": [
        {
          "output_type": "stream",
          "text": [
            "\u001b[0m\u001b[01;34m'My Drive'\u001b[0m/\n"
          ],
          "name": "stdout"
        }
      ]
    },
    {
      "metadata": {
        "id": "G9uXEb6SVcGw",
        "colab_type": "code",
        "colab": {
          "base_uri": "https://localhost:8080/",
          "height": 35
        },
        "outputId": "7e9f1bf7-75ca-4380-e2f8-8b69e2f49c4d"
      },
      "cell_type": "code",
      "source": [
        "cd My\\ Drive"
      ],
      "execution_count": 6,
      "outputs": [
        {
          "output_type": "stream",
          "text": [
            "/content/gdrive/My Drive\n"
          ],
          "name": "stdout"
        }
      ]
    },
    {
      "metadata": {
        "id": "6quJ7AMzVeVb",
        "colab_type": "code",
        "colab": {
          "base_uri": "https://localhost:8080/",
          "height": 191
        },
        "outputId": "cf47c9c4-7cb6-4e4b-cb3a-8adcec3c4c32"
      },
      "cell_type": "code",
      "source": [
        "ls"
      ],
      "execution_count": 7,
      "outputs": [
        {
          "output_type": "stream",
          "text": [
            " 0644anav.pdf\n",
            "'170405_Explanatory_note_for_students_(General).pdf'\n",
            " 2017_CSIRO_Data61_SCHOLARSHIP_AWARD_GUIDELINES.pdf\n",
            " Certified_ID_doc.pdf\n",
            " OfferLetter.pdf\n",
            " Review3255.txt\n",
            " Shahin_Mostafa_-_Research_proposal.pdf\n",
            " TFS_Acceptance_Form.pdf\n",
            " Untitled0.ipynb\n",
            "'Untitled document.gdoc'\n"
          ],
          "name": "stdout"
        }
      ]
    },
    {
      "metadata": {
        "id": "63bG1WnaVfFS",
        "colab_type": "code",
        "colab": {
          "base_uri": "https://localhost:8080/",
          "height": 167
        },
        "outputId": "bc85ab10-7dd9-4bae-9a04-af911e90b2fc"
      },
      "cell_type": "code",
      "source": [
        "git"
      ],
      "execution_count": 8,
      "outputs": [
        {
          "output_type": "error",
          "ename": "NameError",
          "evalue": "ignored",
          "traceback": [
            "\u001b[0;31m---------------------------------------------------------------------------\u001b[0m",
            "\u001b[0;31mNameError\u001b[0m                                 Traceback (most recent call last)",
            "\u001b[0;32m<ipython-input-8-b40508769cb0>\u001b[0m in \u001b[0;36m<module>\u001b[0;34m()\u001b[0m\n\u001b[0;32m----> 1\u001b[0;31m \u001b[0mgit\u001b[0m\u001b[0;34m\u001b[0m\u001b[0;34m\u001b[0m\u001b[0m\n\u001b[0m",
            "\u001b[0;31mNameError\u001b[0m: name 'git' is not defined"
          ]
        }
      ]
    },
    {
      "metadata": {
        "id": "HPNS4D69VjBQ",
        "colab_type": "code",
        "colab": {
          "base_uri": "https://localhost:8080/",
          "height": 745
        },
        "outputId": "ea87b4be-3e39-4124-f741-6884603c4197"
      },
      "cell_type": "code",
      "source": [
        "!git"
      ],
      "execution_count": 9,
      "outputs": [
        {
          "output_type": "stream",
          "text": [
            "usage: git [--version] [--help] [-C <path>] [-c <name>=<value>]\n",
            "           [--exec-path[=<path>]] [--html-path] [--man-path] [--info-path]\n",
            "           [-p | --paginate | --no-pager] [--no-replace-objects] [--bare]\n",
            "           [--git-dir=<path>] [--work-tree=<path>] [--namespace=<name>]\n",
            "           <command> [<args>]\n",
            "\n",
            "These are common Git commands used in various situations:\n",
            "\n",
            "start a working area (see also: git help tutorial)\n",
            "   clone      Clone a repository into a new directory\n",
            "   init       Create an empty Git repository or reinitialize an existing one\n",
            "\n",
            "work on the current change (see also: git help everyday)\n",
            "   add        Add file contents to the index\n",
            "   mv         Move or rename a file, a directory, or a symlink\n",
            "   reset      Reset current HEAD to the specified state\n",
            "   rm         Remove files from the working tree and from the index\n",
            "\n",
            "examine the history and state (see also: git help revisions)\n",
            "   bisect     Use binary search to find the commit that introduced a bug\n",
            "   grep       Print lines matching a pattern\n",
            "   log        Show commit logs\n",
            "   show       Show various types of objects\n",
            "   status     Show the working tree status\n",
            "\n",
            "grow, mark and tweak your common history\n",
            "   branch     List, create, or delete branches\n",
            "   checkout   Switch branches or restore working tree files\n",
            "   commit     Record changes to the repository\n",
            "   diff       Show changes between commits, commit and working tree, etc\n",
            "   merge      Join two or more development histories together\n",
            "   rebase     Reapply commits on top of another base tip\n",
            "   tag        Create, list, delete or verify a tag object signed with GPG\n",
            "\n",
            "collaborate (see also: git help workflows)\n",
            "   fetch      Download objects and refs from another repository\n",
            "   pull       Fetch from and integrate with another repository or a local branch\n",
            "   push       Update remote refs along with associated objects\n",
            "\n",
            "'git help -a' and 'git help -g' list available subcommands and some\n",
            "concept guides. See 'git help <command>' or 'git help <concept>'\n",
            "to read about a specific subcommand or concept.\n"
          ],
          "name": "stdout"
        }
      ]
    },
    {
      "metadata": {
        "id": "u2WziVRhVk2C",
        "colab_type": "code",
        "colab": {
          "base_uri": "https://localhost:8080/",
          "height": 52
        },
        "outputId": "a6dca126-f961-44bb-b9ed-5cfae24aa924"
      },
      "cell_type": "code",
      "source": [
        "!git clone https://mostafashahin@github.com/mostafashahin/SSD_Detection.git"
      ],
      "execution_count": 13,
      "outputs": [
        {
          "output_type": "stream",
          "text": [
            "Cloning into 'SSD_Detection'...\n",
            "fatal: could not read Password for 'https://mostafashahin@github.com': No such device or address\n"
          ],
          "name": "stdout"
        }
      ]
    },
    {
      "metadata": {
        "id": "hfoUThZNV2Cr",
        "colab_type": "code",
        "colab": {
          "base_uri": "https://localhost:8080/",
          "height": 468
        },
        "outputId": "87f00329-7b02-4b89-86f7-6d7970da7036"
      },
      "cell_type": "code",
      "source": [
        "!unzip"
      ],
      "execution_count": 14,
      "outputs": [
        {
          "output_type": "stream",
          "text": [
            "UnZip 6.00 of 20 April 2009, by Debian. Original by Info-ZIP.\n",
            "\n",
            "Usage: unzip [-Z] [-opts[modifiers]] file[.zip] [list] [-x xlist] [-d exdir]\n",
            "  Default action is to extract files in list, except those in xlist, to exdir;\n",
            "  file[.zip] may be a wildcard.  -Z => ZipInfo mode (\"unzip -Z\" for usage).\n",
            "\n",
            "  -p  extract files to pipe, no messages     -l  list files (short format)\n",
            "  -f  freshen existing files, create none    -t  test compressed archive data\n",
            "  -u  update files, create if necessary      -z  display archive comment only\n",
            "  -v  list verbosely/show version info       -T  timestamp archive to latest\n",
            "  -x  exclude files that follow (in xlist)   -d  extract files into exdir\n",
            "modifiers:\n",
            "  -n  never overwrite existing files         -q  quiet mode (-qq => quieter)\n",
            "  -o  overwrite files WITHOUT prompting      -a  auto-convert any text files\n",
            "  -j  junk paths (do not make directories)   -aa treat ALL files as text\n",
            "  -U  use escapes for all non-ASCII Unicode  -UU ignore any Unicode fields\n",
            "  -C  match filenames case-insensitively     -L  make (some) names lowercase\n",
            "  -X  restore UID/GID info                   -V  retain VMS version numbers\n",
            "  -K  keep setuid/setgid/tacky permissions   -M  pipe through \"more\" pager\n",
            "  -O CHARSET  specify a character encoding for DOS, Windows and OS/2 archives\n",
            "  -I CHARSET  specify a character encoding for UNIX and other archives\n",
            "\n",
            "See \"unzip -hh\" or unzip.txt for more help.  Examples:\n",
            "  unzip data1 -x joe   => extract all files except joe from zipfile data1.zip\n",
            "  unzip -p foo | more  => send contents of foo.zip via pipe into program more\n",
            "  unzip -fo foo ReadMe => quietly replace existing ReadMe if archive file newer\n"
          ],
          "name": "stdout"
        }
      ]
    },
    {
      "metadata": {
        "id": "ALc25hsqYYOi",
        "colab_type": "code",
        "colab": {
          "base_uri": "https://localhost:8080/",
          "height": 208
        },
        "outputId": "ad92cbc4-6d43-4583-cfe2-ce2bec8cddcf"
      },
      "cell_type": "code",
      "source": [
        "ls"
      ],
      "execution_count": 15,
      "outputs": [
        {
          "output_type": "stream",
          "text": [
            " 0644anav.pdf\n",
            "'170405_Explanatory_note_for_students_(General).pdf'\n",
            " 2017_CSIRO_Data61_SCHOLARSHIP_AWARD_GUIDELINES.pdf\n",
            " Certified_ID_doc.pdf\n",
            " OfferLetter.pdf\n",
            " Review3255.txt\n",
            " Shahin_Mostafa_-_Research_proposal.pdf\n",
            " SSD_Detection-master.zip\n",
            " TFS_Acceptance_Form.pdf\n",
            " Untitled0.ipynb\n",
            "'Untitled document.gdoc'\n"
          ],
          "name": "stdout"
        }
      ]
    },
    {
      "metadata": {
        "id": "zgWM-FFNYrWM",
        "colab_type": "code",
        "colab": {
          "base_uri": "https://localhost:8080/",
          "height": 659
        },
        "outputId": "77bb4949-5ed7-417f-8a01-03b8ca32810d"
      },
      "cell_type": "code",
      "source": [
        "!unzip SSD_Detection-master.zip"
      ],
      "execution_count": 16,
      "outputs": [
        {
          "output_type": "stream",
          "text": [
            "Archive:  SSD_Detection-master.zip\n",
            "57c2879b4e8b9727a3eee4ceaa3ff3c5c3f76610\n",
            "   creating: SSD_Detection-master/\n",
            "   creating: SSD_Detection-master/.ipynb_checkpoints/\n",
            "  inflating: SSD_Detection-master/.ipynb_checkpoints/SSD_Notebook-checkpoint.ipynb  \n",
            "   creating: SSD_Detection-master/DataPreparation/\n",
            "  inflating: SSD_Detection-master/DataPreparation/Prepare_Ultra_Data.py  \n",
            "   creating: SSD_Detection-master/DataPreparation/__pycache__/\n",
            "  inflating: SSD_Detection-master/DataPreparation/__pycache__/Prepare_Ultra_Data.cpython-37.pyc  \n",
            "  inflating: SSD_Detection-master/DataPreparation/oo.csv  \n",
            "  inflating: SSD_Detection-master/Main.ipynb  \n",
            "  inflating: SSD_Detection-master/README.md  \n",
            "  inflating: SSD_Detection-master/SSD_Notebook.ipynb  \n",
            "  inflating: SSD_Detection-master/openSMILE-book-latest.pdf  \n",
            "   creating: SSD_Detection-master/openSmile/\n",
            "   creating: SSD_Detection-master/openSmile/bin/\n",
            "  inflating: SSD_Detection-master/openSmile/bin/SMILExtract  \n",
            "   creating: SSD_Detection-master/openSmile/config/\n",
            "   creating: SSD_Detection-master/openSmile/config/gemaps/\n",
            "  inflating: SSD_Detection-master/openSmile/config/gemaps/GeMAPSv01a.conf  \n",
            "  inflating: SSD_Detection-master/openSmile/config/gemaps/GeMAPSv01a_core.func.conf.inc  \n",
            "  inflating: SSD_Detection-master/openSmile/config/gemaps/GeMAPSv01a_core.lld.conf.inc  \n",
            "  inflating: SSD_Detection-master/openSmile/config/gemaps/eGeMAPSv01a.conf  \n",
            "  inflating: SSD_Detection-master/openSmile/config/gemaps/eGeMAPSv01a_core.func.conf.inc  \n",
            "  inflating: SSD_Detection-master/openSmile/config/gemaps/eGeMAPSv01a_core.lld.conf.inc  \n",
            "   creating: SSD_Detection-master/openSmile/config/shared/\n",
            "  inflating: SSD_Detection-master/openSmile/config/shared/BufferMode.conf.inc  \n",
            "  inflating: SSD_Detection-master/openSmile/config/shared/BufferModeLive.conf.inc  \n",
            "  inflating: SSD_Detection-master/openSmile/config/shared/BufferModeRb.conf.inc  \n",
            "  inflating: SSD_Detection-master/openSmile/config/shared/BufferModeRbLag.conf.inc  \n",
            "  inflating: SSD_Detection-master/openSmile/config/shared/FrameModeFunctionals.conf.inc  \n",
            "  inflating: SSD_Detection-master/openSmile/config/shared/FrameModeFunctionalsLive.conf.inc  \n",
            "  inflating: SSD_Detection-master/openSmile/config/shared/arff_targets.conf.inc  \n",
            "  inflating: SSD_Detection-master/openSmile/config/shared/standard_data_output.conf.inc  \n",
            "  inflating: SSD_Detection-master/openSmile/config/shared/standard_data_output_lldonly.conf.inc  \n",
            "  inflating: SSD_Detection-master/openSmile/config/shared/standard_wave_input.conf.inc  \n",
            " extracting: SSD_Detection-master/test_adding_File  \n"
          ],
          "name": "stdout"
        }
      ]
    },
    {
      "metadata": {
        "id": "EmXj5pV1Yux3",
        "colab_type": "code",
        "colab": {
          "base_uri": "https://localhost:8080/",
          "height": 35
        },
        "outputId": "4d4e2489-a00b-4b99-d7c2-6da81816f166"
      },
      "cell_type": "code",
      "source": [
        "cd SSD_Detection-master/"
      ],
      "execution_count": 17,
      "outputs": [
        {
          "output_type": "stream",
          "text": [
            "/content/gdrive/My Drive/SSD_Detection-master\n"
          ],
          "name": "stdout"
        }
      ]
    },
    {
      "metadata": {
        "id": "Wua64glkYypq",
        "colab_type": "code",
        "colab": {
          "base_uri": "https://localhost:8080/",
          "height": 69
        },
        "outputId": "cf67bb05-f8c8-40b0-97ea-fe116347b5eb"
      },
      "cell_type": "code",
      "source": [
        "ls"
      ],
      "execution_count": 18,
      "outputs": [
        {
          "output_type": "stream",
          "text": [
            "\u001b[0m\u001b[01;34mDataPreparation\u001b[0m/  openSMILE-book-latest.pdf  test_adding_File\n",
            "Main.ipynb        README.md\n",
            "\u001b[01;34mopenSmile\u001b[0m/        SSD_Notebook.ipynb\n"
          ],
          "name": "stdout"
        }
      ]
    },
    {
      "metadata": {
        "id": "yEMdf1j-YzZs",
        "colab_type": "code",
        "colab": {}
      },
      "cell_type": "code",
      "source": [
        ""
      ],
      "execution_count": 0,
      "outputs": []
    }
  ]
}